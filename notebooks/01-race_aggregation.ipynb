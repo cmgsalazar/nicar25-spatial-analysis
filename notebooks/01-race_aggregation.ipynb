{
 "cells": [
  {
   "cell_type": "markdown",
   "id": "a7716d0d-8b9c-4f0b-bb6b-4aa7df985be6",
   "metadata": {},
   "source": [
    "# Census aggregation race data\n",
    "By: Sandhya Kambhampati"
   ]
  },
  {
   "cell_type": "code",
   "execution_count": null,
   "id": "6a6884c1",
   "metadata": {},
   "outputs": [],
   "source": [
    "#load libraries\n",
    "import pandas as pd"
   ]
  },
  {
   "cell_type": "code",
   "execution_count": null,
   "id": "3f4163a4",
   "metadata": {},
   "outputs": [],
   "source": [
    "# load tract to neighborhood lookup\n",
    "shapes = pd.read_csv(\"../data/output/la_tract_to_neighborhood_portions.csv\",dtype={\"tract\": str})"
   ]
  },
  {
   "cell_type": "code",
   "execution_count": null,
   "id": "7e86a841",
   "metadata": {},
   "outputs": [],
   "source": [
    "len(shapes)"
   ]
  },
  {
   "cell_type": "code",
   "execution_count": null,
   "id": "ed08d639",
   "metadata": {},
   "outputs": [],
   "source": [
    "shapes.head(1)"
   ]
  },
  {
   "cell_type": "code",
   "execution_count": null,
   "id": "a1769dce",
   "metadata": {},
   "outputs": [],
   "source": [
    "# bring race data in for LA \n",
    "race = pd.read_csv(\"../data/input/acs5_2022_race_la_tracts.csv\",dtype={\"tract\": str})"
   ]
  },
  {
   "cell_type": "code",
   "execution_count": null,
   "id": "b185eb55-bee3-4cdc-8eca-ebcf284f5c29",
   "metadata": {},
   "outputs": [],
   "source": [
    "race.universe.sum()"
   ]
  },
  {
   "cell_type": "code",
   "execution_count": null,
   "id": "957cac92",
   "metadata": {},
   "outputs": [],
   "source": [
    "race.head(1)"
   ]
  },
  {
   "cell_type": "code",
   "execution_count": null,
   "id": "93af8237",
   "metadata": {},
   "outputs": [],
   "source": [
    "race.columns"
   ]
  },
  {
   "cell_type": "code",
   "execution_count": null,
   "id": "ca0b62de",
   "metadata": {},
   "outputs": [],
   "source": [
    "col = ['universe','white_alone', 'black_alone','american_indian_and_alaska_native', 'asian_alone',\n",
    "       'native_hawaiian_and_pacific_islander','some_other_race','two_or_more_races',\n",
    "       'latino_alone']"
   ]
  },
  {
   "cell_type": "code",
   "execution_count": null,
   "id": "a9b99b0e",
   "metadata": {},
   "outputs": [],
   "source": [
    "n = pd.merge(shapes,race,on=\"tract\",how=\"left\")"
   ]
  },
  {
   "cell_type": "code",
   "execution_count": null,
   "id": "a832e185-8fee-46d0-8e82-76ffcb267059",
   "metadata": {},
   "outputs": [],
   "source": [
    "len(shapes)"
   ]
  },
  {
   "cell_type": "code",
   "execution_count": null,
   "id": "50ddf63e-24ab-4f94-8071-469c93c3408c",
   "metadata": {},
   "outputs": [],
   "source": [
    "n.universe.sum()"
   ]
  },
  {
   "cell_type": "code",
   "execution_count": null,
   "id": "dcdd5dae-5100-4d46-931b-b1ea53d46c68",
   "metadata": {},
   "outputs": [],
   "source": [
    "n.tract.nunique()"
   ]
  },
  {
   "cell_type": "code",
   "execution_count": null,
   "id": "f6671290-7654-4676-8c1f-a4d54daf450f",
   "metadata": {},
   "outputs": [],
   "source": [
    "race.tract.nunique()"
   ]
  },
  {
   "cell_type": "code",
   "execution_count": null,
   "id": "3d8c6fb1-7bf5-44e9-b872-259d666dd322",
   "metadata": {},
   "outputs": [],
   "source": [
    "shapes.tract.nunique()"
   ]
  },
  {
   "cell_type": "code",
   "execution_count": null,
   "id": "ab04df6d",
   "metadata": {},
   "outputs": [],
   "source": [
    "assert len(n) == len(shapes)"
   ]
  },
  {
   "cell_type": "code",
   "execution_count": null,
   "id": "1d7d45d3",
   "metadata": {},
   "outputs": [],
   "source": [
    "def by_percent(row):\n",
    "    for c in col:\n",
    "        row[c] = row[c]*row[\"tract_percent\"]\n",
    "    return row\n",
    "    "
   ]
  },
  {
   "cell_type": "code",
   "execution_count": null,
   "id": "bce7a785",
   "metadata": {},
   "outputs": [],
   "source": [
    "race_cleaned = n.apply(by_percent, axis=1)"
   ]
  },
  {
   "cell_type": "code",
   "execution_count": null,
   "id": "0fffae12",
   "metadata": {},
   "outputs": [],
   "source": [
    "race_cleaned = race_cleaned.groupby([\"neighborhood\"]).sum().reset_index()"
   ]
  },
  {
   "cell_type": "code",
   "execution_count": null,
   "id": "16d6d1c5",
   "metadata": {},
   "outputs": [],
   "source": [
    "race_cleaned[[\"neighborhood\",\"universe\"]]"
   ]
  },
  {
   "cell_type": "code",
   "execution_count": null,
   "id": "d1aadd9b-e6ab-45cd-babd-724982a1edb7",
   "metadata": {},
   "outputs": [],
   "source": [
    "race_cleaned"
   ]
  },
  {
   "cell_type": "code",
   "execution_count": null,
   "id": "507d2117-7d4e-4b29-9821-699b2ae87251",
   "metadata": {},
   "outputs": [],
   "source": [
    "race_cleaned.universe.sum()"
   ]
  },
  {
   "cell_type": "code",
   "execution_count": null,
   "id": "0b674e3d",
   "metadata": {},
   "outputs": [],
   "source": [
    "# calculate percentages for each race group         \n",
    "race_cleaned[\"white_percent\"] = race_cleaned.white_alone/race_cleaned.universe\n",
    "race_cleaned[\"black_percent\"] = race_cleaned.black_alone/race_cleaned.universe\n",
    "race_cleaned[\"american_indian_percent\"] = race_cleaned.american_indian_and_alaska_native/race_cleaned.universe\n",
    "race_cleaned[\"asian_percent\"] = race_cleaned.asian_alone/race_cleaned.universe\n",
    "race_cleaned[\"native_hawaiian_percent\"] = race_cleaned.native_hawaiian_and_pacific_islander/race_cleaned.universe\n",
    "race_cleaned[\"other_percent\"] = race_cleaned.some_other_race/race_cleaned.universe\n",
    "race_cleaned[\"two_or_more_races_percent\"] = race_cleaned.two_or_more_races/race_cleaned.universe\n",
    "race_cleaned[\"latino_percent\"] = race_cleaned.latino_alone/race_cleaned.universe\n",
    "race_cleaned[\"non_latino_percent\"]= 1-race_cleaned.latino_percent"
   ]
  },
  {
   "cell_type": "code",
   "execution_count": null,
   "id": "d2cb00e8",
   "metadata": {},
   "outputs": [],
   "source": [
    "race_cleaned[\"nonwhite_percent\"]=(1-race_cleaned.white_percent)"
   ]
  },
  {
   "cell_type": "code",
   "execution_count": null,
   "id": "8c50180a",
   "metadata": {},
   "outputs": [],
   "source": [
    "race_cleaned[\"majority_nonwhite\"] = race_cleaned.nonwhite_percent > 0.5\n",
    "race_cleaned[\"majority_white\"] = race_cleaned.white_percent  > 0.5\n",
    "race_cleaned[\"majority_black\"]= race_cleaned.black_percent > 0.5\n",
    "race_cleaned[\"majority_asian\"]= race_cleaned.asian_percent > 0.5\n",
    "race_cleaned[\"majority_latino\"] = race_cleaned.latino_percent > 0.5"
   ]
  },
  {
   "cell_type": "code",
   "execution_count": null,
   "id": "02c4f615-0b36-4dd2-ab26-c217a0c2a0bf",
   "metadata": {},
   "outputs": [],
   "source": [
    "# add in diversity index from https://www.usatoday.com/story/news/nation/2014/10/21/diversity-index-data-how-we-did-report/17432103/ & https://github.com/censusreporter/nicar16-diversity-index/blob/master/Walkthrough.ipynb\n",
    "race_cleaned[\"diversity_index\"]= 1-( \n",
    "              (race_cleaned.white_percent **2 + race_cleaned.black_percent**2 + race_cleaned.american_indian_percent**2 + race_cleaned.asian_percent**2 + race_cleaned.native_hawaiian_percent**2 ) * \n",
    "              (race_cleaned.latino_percent**2 + race_cleaned.non_latino_percent**2)\n",
    "           )"
   ]
  },
  {
   "cell_type": "code",
   "execution_count": null,
   "id": "cd598ebc",
   "metadata": {},
   "outputs": [],
   "source": [
    "len(race_cleaned)"
   ]
  },
  {
   "cell_type": "code",
   "execution_count": null,
   "id": "de15a33a-888d-4996-a4dc-fd7dfbe586d3",
   "metadata": {},
   "outputs": [],
   "source": [
    "list(race_cleaned)"
   ]
  },
  {
   "cell_type": "code",
   "execution_count": null,
   "id": "46cc1bfc-2115-48d3-a593-0916dbd08e9d",
   "metadata": {},
   "outputs": [],
   "source": [
    "# cut the df \n",
    "race_neighborhoods = race_cleaned[[\n",
    "\"neighborhood\",\n",
    "\"universe\",                           \n",
    "'white_alone',\n",
    "'black_alone',\n",
    "'american_indian_and_alaska_native', \n",
    "'asian_alone',\n",
    "'native_hawaiian_and_pacific_islander',\n",
    "'some_other_race',\n",
    "'two_or_more_races',\n",
    "'latino_alone',\n",
    "'white_percent',\n",
    "'black_percent',\n",
    "'american_indian_percent',\n",
    "'asian_percent',\n",
    "'native_hawaiian_percent',\n",
    "'other_percent',\n",
    "'two_or_more_races_percent',\n",
    "'latino_percent',\n",
    "'nonwhite_percent',\n",
    "'majority_nonwhite',\n",
    "'majority_white',\n",
    "'majority_black',\n",
    "'majority_asian',\n",
    "'majority_latino',\n",
    "'non_latino_percent',\n",
    "'diversity_index']]"
   ]
  },
  {
   "cell_type": "code",
   "execution_count": null,
   "id": "ae6d9b02-3d0f-4568-aef2-7e1de9db36a4",
   "metadata": {},
   "outputs": [],
   "source": [
    "race_neighborhoods.rename(columns={\"universe\": \"total_population\"},inplace=True)"
   ]
  },
  {
   "cell_type": "code",
   "execution_count": null,
   "id": "43ae8881",
   "metadata": {},
   "outputs": [],
   "source": [
    "race_neighborhoods.to_csv(\"../data/output/race_neighborhoods.csv\", index=False)"
   ]
  },
  {
   "cell_type": "markdown",
   "id": "e99a2775-71c7-467d-8f96-2318111e8bbe",
   "metadata": {},
   "source": [
    "## Get top neighborhoods"
   ]
  },
  {
   "cell_type": "code",
   "execution_count": null,
   "id": "5569613f-a832-4885-bb35-b5d09f5ed75c",
   "metadata": {},
   "outputs": [],
   "source": [
    "len(race_neighborhoods)"
   ]
  },
  {
   "cell_type": "code",
   "execution_count": null,
   "id": "7e43a4f8-ab3e-499d-b58d-9264731dffcd",
   "metadata": {},
   "outputs": [],
   "source": [
    "race_neighborhoods.columns"
   ]
  },
  {
   "cell_type": "markdown",
   "id": "d7c97ec1-114d-47c7-8f78-79e74ffb2d7d",
   "metadata": {},
   "source": [
    "### Plurality Black neighborhoods"
   ]
  },
  {
   "cell_type": "code",
   "execution_count": null,
   "id": "1a33a841-dd09-4eb1-bcf8-8b33f9325a3f",
   "metadata": {},
   "outputs": [],
   "source": [
    "race_neighborhoods.loc[\n",
    "    (race_neighborhoods[\"black_percent\"] > race_neighborhoods[\"white_percent\"]) & \n",
    "    (race_neighborhoods[\"black_percent\"] > race_neighborhoods[\"latino_percent\"]) &\n",
    "    (race_neighborhoods[\"black_percent\"] > race_neighborhoods[\"asian_percent\"])\n",
    "]"
   ]
  },
  {
   "cell_type": "code",
   "execution_count": null,
   "id": "13176450-8ab1-4a85-b948-2dd700fbd44f",
   "metadata": {},
   "outputs": [],
   "source": [
    "race_neighborhoods.loc[\n",
    "    (race_neighborhoods[\"black_percent\"] > race_neighborhoods[\"white_percent\"]) & \n",
    "    (race_neighborhoods[\"black_percent\"] > race_neighborhoods[\"latino_percent\"]) &\n",
    "    (race_neighborhoods[\"black_percent\"] > race_neighborhoods[\"asian_percent\"])\n",
    "][\"neighborhood\"].tolist()"
   ]
  },
  {
   "cell_type": "markdown",
   "id": "04fe1550-9e71-4b17-880e-eb2e3bb0e27e",
   "metadata": {},
   "source": [
    "### Majority Latino neighborhoods"
   ]
  },
  {
   "cell_type": "code",
   "execution_count": null,
   "id": "f9b06dba-d74f-424e-93c9-3071d859f519",
   "metadata": {},
   "outputs": [],
   "source": [
    "len(race_neighborhoods.loc[race_neighborhoods[\"majority_latino\"] == True])"
   ]
  },
  {
   "cell_type": "code",
   "execution_count": null,
   "id": "bf969921-498f-4bb1-9b2c-3d613eeac8c3",
   "metadata": {},
   "outputs": [],
   "source": [
    "race_neighborhoods.loc[race_neighborhoods[\"majority_latino\"] == True][\"neighborhood\"].tolist()"
   ]
  },
  {
   "cell_type": "markdown",
   "id": "861f3c2d-a47d-4a0a-9302-8264240a0e28",
   "metadata": {},
   "source": [
    "### Majority white neighborhoods"
   ]
  },
  {
   "cell_type": "code",
   "execution_count": null,
   "id": "d882188b-5078-484c-9914-abeb9a8534a6",
   "metadata": {},
   "outputs": [],
   "source": [
    "len(race_neighborhoods.loc[race_neighborhoods[\"majority_white\"] == True])"
   ]
  },
  {
   "cell_type": "code",
   "execution_count": null,
   "id": "ed6e5cae-c9f5-409f-9179-c0d8601ea434",
   "metadata": {},
   "outputs": [],
   "source": [
    "race_neighborhoods.loc[race_neighborhoods[\"majority_white\"] == True][\"neighborhood\"].tolist()"
   ]
  }
 ],
 "metadata": {
  "kernelspec": {
   "display_name": "Python 3 (ipykernel)",
   "language": "python",
   "name": "python3"
  },
  "language_info": {
   "codemirror_mode": {
    "name": "ipython",
    "version": 3
   },
   "file_extension": ".py",
   "mimetype": "text/x-python",
   "name": "python",
   "nbconvert_exporter": "python",
   "pygments_lexer": "ipython3",
   "version": "3.8.17"
  }
 },
 "nbformat": 4,
 "nbformat_minor": 5
}
