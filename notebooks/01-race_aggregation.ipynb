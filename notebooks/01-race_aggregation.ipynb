{
 "cells": [
  {
   "cell_type": "markdown",
   "id": "a7716d0d-8b9c-4f0b-bb6b-4aa7df985be6",
   "metadata": {},
   "source": [
    "# Census aggregation race data\n",
    "By: Sandhya Kambhampati"
   ]
  },
  {
   "cell_type": "code",
   "execution_count": 1,
   "id": "6a6884c1",
   "metadata": {},
   "outputs": [],
   "source": [
    "#load libraries\n",
    "import pandas as pd"
   ]
  },
  {
   "cell_type": "code",
   "execution_count": 2,
   "id": "3f4163a4",
   "metadata": {},
   "outputs": [],
   "source": [
    "# load tract to neighborhood lookup\n",
    "shapes = pd.read_csv(\"../data/output/la_tract_to_neighborhood_portions.csv\",dtype={\"tract\": str})"
   ]
  },
  {
   "cell_type": "code",
   "execution_count": 3,
   "id": "7e86a841",
   "metadata": {},
   "outputs": [
    {
     "data": {
      "text/plain": [
       "4943"
      ]
     },
     "execution_count": 3,
     "metadata": {},
     "output_type": "execute_result"
    }
   ],
   "source": [
    "len(shapes)"
   ]
  },
  {
   "cell_type": "code",
   "execution_count": 4,
   "id": "ed08d639",
   "metadata": {},
   "outputs": [
    {
     "data": {
      "text/html": [
       "<div>\n",
       "<style scoped>\n",
       "    .dataframe tbody tr th:only-of-type {\n",
       "        vertical-align: middle;\n",
       "    }\n",
       "\n",
       "    .dataframe tbody tr th {\n",
       "        vertical-align: top;\n",
       "    }\n",
       "\n",
       "    .dataframe thead th {\n",
       "        text-align: right;\n",
       "    }\n",
       "</style>\n",
       "<table border=\"1\" class=\"dataframe\">\n",
       "  <thead>\n",
       "    <tr style=\"text-align: right;\">\n",
       "      <th></th>\n",
       "      <th>tract</th>\n",
       "      <th>neighborhood</th>\n",
       "      <th>area</th>\n",
       "      <th>total_tract_area</th>\n",
       "      <th>tract_percent</th>\n",
       "    </tr>\n",
       "  </thead>\n",
       "  <tbody>\n",
       "    <tr>\n",
       "      <th>0</th>\n",
       "      <td>101110</td>\n",
       "      <td>Tujunga</td>\n",
       "      <td>1.229562e+07</td>\n",
       "      <td>1.229562e+07</td>\n",
       "      <td>1.0</td>\n",
       "    </tr>\n",
       "  </tbody>\n",
       "</table>\n",
       "</div>"
      ],
      "text/plain": [
       "    tract neighborhood          area  total_tract_area  tract_percent\n",
       "0  101110      Tujunga  1.229562e+07      1.229562e+07            1.0"
      ]
     },
     "execution_count": 4,
     "metadata": {},
     "output_type": "execute_result"
    }
   ],
   "source": [
    "shapes.head(1)"
   ]
  },
  {
   "cell_type": "code",
   "execution_count": 5,
   "id": "a1769dce",
   "metadata": {},
   "outputs": [],
   "source": [
    "# bring race data in for LA \n",
    "race = pd.read_csv(\"../data/input/acs5_2022_race_la_tracts.csv\",dtype={\"tract\": str})"
   ]
  },
  {
   "cell_type": "code",
   "execution_count": 6,
   "id": "957cac92",
   "metadata": {},
   "outputs": [
    {
     "data": {
      "text/html": [
       "<div>\n",
       "<style scoped>\n",
       "    .dataframe tbody tr th:only-of-type {\n",
       "        vertical-align: middle;\n",
       "    }\n",
       "\n",
       "    .dataframe tbody tr th {\n",
       "        vertical-align: top;\n",
       "    }\n",
       "\n",
       "    .dataframe thead th {\n",
       "        text-align: right;\n",
       "    }\n",
       "</style>\n",
       "<table border=\"1\" class=\"dataframe\">\n",
       "  <thead>\n",
       "    <tr style=\"text-align: right;\">\n",
       "      <th></th>\n",
       "      <th>geoid</th>\n",
       "      <th>name</th>\n",
       "      <th>tract</th>\n",
       "      <th>universe</th>\n",
       "      <th>universe_moe</th>\n",
       "      <th>white_alone</th>\n",
       "      <th>white_alone_moe</th>\n",
       "      <th>black_alone</th>\n",
       "      <th>black_alone_moe</th>\n",
       "      <th>american_indian_and_alaska_native</th>\n",
       "      <th>...</th>\n",
       "      <th>asian_alone</th>\n",
       "      <th>asian_alone_moe</th>\n",
       "      <th>native_hawaiian_and_pacific_islander</th>\n",
       "      <th>native_hawaiian_and_pacific_islander_moe</th>\n",
       "      <th>some_other_race</th>\n",
       "      <th>some_other_race_moe</th>\n",
       "      <th>two_or_more_races</th>\n",
       "      <th>two_or_more_races_moe</th>\n",
       "      <th>latino_alone</th>\n",
       "      <th>latino_alone_moe</th>\n",
       "    </tr>\n",
       "  </thead>\n",
       "  <tbody>\n",
       "    <tr>\n",
       "      <th>0</th>\n",
       "      <td>14000US06037101110</td>\n",
       "      <td>Census Tract 1011.10, Los Angeles, CA</td>\n",
       "      <td>101110</td>\n",
       "      <td>4014</td>\n",
       "      <td>473</td>\n",
       "      <td>2236</td>\n",
       "      <td>312</td>\n",
       "      <td>121</td>\n",
       "      <td>149</td>\n",
       "      <td>8</td>\n",
       "      <td>...</td>\n",
       "      <td>390</td>\n",
       "      <td>160</td>\n",
       "      <td>0</td>\n",
       "      <td>13</td>\n",
       "      <td>8</td>\n",
       "      <td>13</td>\n",
       "      <td>169</td>\n",
       "      <td>110</td>\n",
       "      <td>1082</td>\n",
       "      <td>422</td>\n",
       "    </tr>\n",
       "  </tbody>\n",
       "</table>\n",
       "<p>1 rows × 21 columns</p>\n",
       "</div>"
      ],
      "text/plain": [
       "                geoid                                   name   tract  \\\n",
       "0  14000US06037101110  Census Tract 1011.10, Los Angeles, CA  101110   \n",
       "\n",
       "   universe  universe_moe  white_alone  white_alone_moe  black_alone  \\\n",
       "0      4014           473         2236              312          121   \n",
       "\n",
       "   black_alone_moe  american_indian_and_alaska_native  ...  asian_alone  \\\n",
       "0              149                                  8  ...          390   \n",
       "\n",
       "   asian_alone_moe  native_hawaiian_and_pacific_islander  \\\n",
       "0              160                                     0   \n",
       "\n",
       "   native_hawaiian_and_pacific_islander_moe  some_other_race  \\\n",
       "0                                        13                8   \n",
       "\n",
       "   some_other_race_moe  two_or_more_races  two_or_more_races_moe  \\\n",
       "0                   13                169                    110   \n",
       "\n",
       "   latino_alone  latino_alone_moe  \n",
       "0          1082               422  \n",
       "\n",
       "[1 rows x 21 columns]"
      ]
     },
     "execution_count": 6,
     "metadata": {},
     "output_type": "execute_result"
    }
   ],
   "source": [
    "race.head(1)\n",
    "# moe is margin of error"
   ]
  },
  {
   "cell_type": "code",
   "execution_count": 7,
   "id": "b185eb55-bee3-4cdc-8eca-ebcf284f5c29",
   "metadata": {},
   "outputs": [
    {
     "data": {
      "text/plain": [
       "np.int64(9936690)"
      ]
     },
     "execution_count": 7,
     "metadata": {},
     "output_type": "execute_result"
    }
   ],
   "source": [
    "race.universe.sum()"
   ]
  },
  {
   "cell_type": "code",
   "execution_count": 8,
   "id": "72271383-c459-4c82-b9b8-e3d6e614fd32",
   "metadata": {},
   "outputs": [
    {
     "data": {
      "text/plain": [
       "2498"
      ]
     },
     "execution_count": 8,
     "metadata": {},
     "output_type": "execute_result"
    }
   ],
   "source": [
    "len(race)"
   ]
  },
  {
   "cell_type": "code",
   "execution_count": 9,
   "id": "93af8237",
   "metadata": {},
   "outputs": [
    {
     "data": {
      "text/plain": [
       "Index(['geoid', 'name', 'tract', 'universe', 'universe_moe', 'white_alone',\n",
       "       'white_alone_moe', 'black_alone', 'black_alone_moe',\n",
       "       'american_indian_and_alaska_native',\n",
       "       'american_indian_and_alaska_native_moe', 'asian_alone',\n",
       "       'asian_alone_moe', 'native_hawaiian_and_pacific_islander',\n",
       "       'native_hawaiian_and_pacific_islander_moe', 'some_other_race',\n",
       "       'some_other_race_moe', 'two_or_more_races', 'two_or_more_races_moe',\n",
       "       'latino_alone', 'latino_alone_moe'],\n",
       "      dtype='object')"
      ]
     },
     "execution_count": 9,
     "metadata": {},
     "output_type": "execute_result"
    }
   ],
   "source": [
    "race.columns"
   ]
  },
  {
   "cell_type": "code",
   "execution_count": 10,
   "id": "ca0b62de",
   "metadata": {},
   "outputs": [],
   "source": [
    "col = ['universe','white_alone', 'black_alone','american_indian_and_alaska_native', 'asian_alone',\n",
    "       'native_hawaiian_and_pacific_islander','some_other_race','two_or_more_races',\n",
    "       'latino_alone']"
   ]
  },
  {
   "cell_type": "code",
   "execution_count": 11,
   "id": "a9b99b0e",
   "metadata": {},
   "outputs": [],
   "source": [
    "n = pd.merge(shapes,race,on=\"tract\",how=\"left\")"
   ]
  },
  {
   "cell_type": "code",
   "execution_count": 12,
   "id": "a832e185-8fee-46d0-8e82-76ffcb267059",
   "metadata": {},
   "outputs": [
    {
     "data": {
      "text/plain": [
       "4943"
      ]
     },
     "execution_count": 12,
     "metadata": {},
     "output_type": "execute_result"
    }
   ],
   "source": [
    "len(shapes)"
   ]
  },
  {
   "cell_type": "code",
   "execution_count": 13,
   "id": "50ddf63e-24ab-4f94-8071-469c93c3408c",
   "metadata": {},
   "outputs": [
    {
     "data": {
      "text/plain": [
       "np.int64(19633092)"
      ]
     },
     "execution_count": 13,
     "metadata": {},
     "output_type": "execute_result"
    }
   ],
   "source": [
    "n.universe.sum()"
   ]
  },
  {
   "cell_type": "code",
   "execution_count": 14,
   "id": "dcdd5dae-5100-4d46-931b-b1ea53d46c68",
   "metadata": {},
   "outputs": [
    {
     "data": {
      "text/plain": [
       "2495"
      ]
     },
     "execution_count": 14,
     "metadata": {},
     "output_type": "execute_result"
    }
   ],
   "source": [
    "n.tract.nunique()"
   ]
  },
  {
   "cell_type": "code",
   "execution_count": 15,
   "id": "f6671290-7654-4676-8c1f-a4d54daf450f",
   "metadata": {},
   "outputs": [
    {
     "data": {
      "text/plain": [
       "2498"
      ]
     },
     "execution_count": 15,
     "metadata": {},
     "output_type": "execute_result"
    }
   ],
   "source": [
    "race.tract.nunique()"
   ]
  },
  {
   "cell_type": "code",
   "execution_count": 16,
   "id": "3d8c6fb1-7bf5-44e9-b872-259d666dd322",
   "metadata": {},
   "outputs": [
    {
     "data": {
      "text/plain": [
       "2495"
      ]
     },
     "execution_count": 16,
     "metadata": {},
     "output_type": "execute_result"
    }
   ],
   "source": [
    "shapes.tract.nunique()"
   ]
  },
  {
   "cell_type": "code",
   "execution_count": 17,
   "id": "ab04df6d",
   "metadata": {},
   "outputs": [],
   "source": [
    "assert len(n) == len(shapes)\n",
    "# one file (n) matches the length of the other file (shapes)"
   ]
  },
  {
   "cell_type": "code",
   "execution_count": 18,
   "id": "797de38b-cab3-4188-b2a9-26d550c97705",
   "metadata": {},
   "outputs": [
    {
     "data": {
      "text/html": [
       "<div>\n",
       "<style scoped>\n",
       "    .dataframe tbody tr th:only-of-type {\n",
       "        vertical-align: middle;\n",
       "    }\n",
       "\n",
       "    .dataframe tbody tr th {\n",
       "        vertical-align: top;\n",
       "    }\n",
       "\n",
       "    .dataframe thead th {\n",
       "        text-align: right;\n",
       "    }\n",
       "</style>\n",
       "<table border=\"1\" class=\"dataframe\">\n",
       "  <thead>\n",
       "    <tr style=\"text-align: right;\">\n",
       "      <th></th>\n",
       "      <th>tract</th>\n",
       "      <th>neighborhood</th>\n",
       "      <th>area</th>\n",
       "      <th>total_tract_area</th>\n",
       "      <th>tract_percent</th>\n",
       "      <th>geoid</th>\n",
       "      <th>name</th>\n",
       "      <th>universe</th>\n",
       "      <th>universe_moe</th>\n",
       "      <th>white_alone</th>\n",
       "      <th>...</th>\n",
       "      <th>asian_alone</th>\n",
       "      <th>asian_alone_moe</th>\n",
       "      <th>native_hawaiian_and_pacific_islander</th>\n",
       "      <th>native_hawaiian_and_pacific_islander_moe</th>\n",
       "      <th>some_other_race</th>\n",
       "      <th>some_other_race_moe</th>\n",
       "      <th>two_or_more_races</th>\n",
       "      <th>two_or_more_races_moe</th>\n",
       "      <th>latino_alone</th>\n",
       "      <th>latino_alone_moe</th>\n",
       "    </tr>\n",
       "  </thead>\n",
       "  <tbody>\n",
       "    <tr>\n",
       "      <th>0</th>\n",
       "      <td>101110</td>\n",
       "      <td>Tujunga</td>\n",
       "      <td>1.229562e+07</td>\n",
       "      <td>1.229562e+07</td>\n",
       "      <td>1.000000</td>\n",
       "      <td>14000US06037101110</td>\n",
       "      <td>Census Tract 1011.10, Los Angeles, CA</td>\n",
       "      <td>4014</td>\n",
       "      <td>473</td>\n",
       "      <td>2236</td>\n",
       "      <td>...</td>\n",
       "      <td>390</td>\n",
       "      <td>160</td>\n",
       "      <td>0</td>\n",
       "      <td>13</td>\n",
       "      <td>8</td>\n",
       "      <td>13</td>\n",
       "      <td>169</td>\n",
       "      <td>110</td>\n",
       "      <td>1082</td>\n",
       "      <td>422</td>\n",
       "    </tr>\n",
       "    <tr>\n",
       "      <th>1</th>\n",
       "      <td>101122</td>\n",
       "      <td>Sunland</td>\n",
       "      <td>7.231914e+04</td>\n",
       "      <td>2.845774e+07</td>\n",
       "      <td>0.002541</td>\n",
       "      <td>14000US06037101122</td>\n",
       "      <td>Census Tract 1011.22, Los Angeles, CA</td>\n",
       "      <td>4164</td>\n",
       "      <td>822</td>\n",
       "      <td>2882</td>\n",
       "      <td>...</td>\n",
       "      <td>582</td>\n",
       "      <td>220</td>\n",
       "      <td>0</td>\n",
       "      <td>13</td>\n",
       "      <td>12</td>\n",
       "      <td>18</td>\n",
       "      <td>250</td>\n",
       "      <td>127</td>\n",
       "      <td>362</td>\n",
       "      <td>155</td>\n",
       "    </tr>\n",
       "    <tr>\n",
       "      <th>2</th>\n",
       "      <td>101122</td>\n",
       "      <td>Tujunga</td>\n",
       "      <td>2.838542e+07</td>\n",
       "      <td>2.845774e+07</td>\n",
       "      <td>0.997459</td>\n",
       "      <td>14000US06037101122</td>\n",
       "      <td>Census Tract 1011.22, Los Angeles, CA</td>\n",
       "      <td>4164</td>\n",
       "      <td>822</td>\n",
       "      <td>2882</td>\n",
       "      <td>...</td>\n",
       "      <td>582</td>\n",
       "      <td>220</td>\n",
       "      <td>0</td>\n",
       "      <td>13</td>\n",
       "      <td>12</td>\n",
       "      <td>18</td>\n",
       "      <td>250</td>\n",
       "      <td>127</td>\n",
       "      <td>362</td>\n",
       "      <td>155</td>\n",
       "    </tr>\n",
       "    <tr>\n",
       "      <th>3</th>\n",
       "      <td>101220</td>\n",
       "      <td>Tujunga</td>\n",
       "      <td>7.522093e+06</td>\n",
       "      <td>7.522093e+06</td>\n",
       "      <td>1.000000</td>\n",
       "      <td>14000US06037101220</td>\n",
       "      <td>Census Tract 1012.20, Los Angeles, CA</td>\n",
       "      <td>3481</td>\n",
       "      <td>467</td>\n",
       "      <td>1485</td>\n",
       "      <td>...</td>\n",
       "      <td>433</td>\n",
       "      <td>216</td>\n",
       "      <td>0</td>\n",
       "      <td>13</td>\n",
       "      <td>5</td>\n",
       "      <td>9</td>\n",
       "      <td>49</td>\n",
       "      <td>37</td>\n",
       "      <td>1463</td>\n",
       "      <td>409</td>\n",
       "    </tr>\n",
       "    <tr>\n",
       "      <th>4</th>\n",
       "      <td>101221</td>\n",
       "      <td>Tujunga</td>\n",
       "      <td>3.812000e+06</td>\n",
       "      <td>3.812000e+06</td>\n",
       "      <td>1.000000</td>\n",
       "      <td>14000US06037101221</td>\n",
       "      <td>Census Tract 1012.21, Los Angeles, CA</td>\n",
       "      <td>3756</td>\n",
       "      <td>687</td>\n",
       "      <td>1970</td>\n",
       "      <td>...</td>\n",
       "      <td>314</td>\n",
       "      <td>210</td>\n",
       "      <td>0</td>\n",
       "      <td>13</td>\n",
       "      <td>107</td>\n",
       "      <td>118</td>\n",
       "      <td>60</td>\n",
       "      <td>73</td>\n",
       "      <td>1204</td>\n",
       "      <td>375</td>\n",
       "    </tr>\n",
       "  </tbody>\n",
       "</table>\n",
       "<p>5 rows × 25 columns</p>\n",
       "</div>"
      ],
      "text/plain": [
       "    tract neighborhood          area  total_tract_area  tract_percent  \\\n",
       "0  101110      Tujunga  1.229562e+07      1.229562e+07       1.000000   \n",
       "1  101122      Sunland  7.231914e+04      2.845774e+07       0.002541   \n",
       "2  101122      Tujunga  2.838542e+07      2.845774e+07       0.997459   \n",
       "3  101220      Tujunga  7.522093e+06      7.522093e+06       1.000000   \n",
       "4  101221      Tujunga  3.812000e+06      3.812000e+06       1.000000   \n",
       "\n",
       "                geoid                                   name  universe  \\\n",
       "0  14000US06037101110  Census Tract 1011.10, Los Angeles, CA      4014   \n",
       "1  14000US06037101122  Census Tract 1011.22, Los Angeles, CA      4164   \n",
       "2  14000US06037101122  Census Tract 1011.22, Los Angeles, CA      4164   \n",
       "3  14000US06037101220  Census Tract 1012.20, Los Angeles, CA      3481   \n",
       "4  14000US06037101221  Census Tract 1012.21, Los Angeles, CA      3756   \n",
       "\n",
       "   universe_moe  white_alone  ...  asian_alone  asian_alone_moe  \\\n",
       "0           473         2236  ...          390              160   \n",
       "1           822         2882  ...          582              220   \n",
       "2           822         2882  ...          582              220   \n",
       "3           467         1485  ...          433              216   \n",
       "4           687         1970  ...          314              210   \n",
       "\n",
       "   native_hawaiian_and_pacific_islander  \\\n",
       "0                                     0   \n",
       "1                                     0   \n",
       "2                                     0   \n",
       "3                                     0   \n",
       "4                                     0   \n",
       "\n",
       "   native_hawaiian_and_pacific_islander_moe  some_other_race  \\\n",
       "0                                        13                8   \n",
       "1                                        13               12   \n",
       "2                                        13               12   \n",
       "3                                        13                5   \n",
       "4                                        13              107   \n",
       "\n",
       "   some_other_race_moe  two_or_more_races  two_or_more_races_moe  \\\n",
       "0                   13                169                    110   \n",
       "1                   18                250                    127   \n",
       "2                   18                250                    127   \n",
       "3                    9                 49                     37   \n",
       "4                  118                 60                     73   \n",
       "\n",
       "   latino_alone  latino_alone_moe  \n",
       "0          1082               422  \n",
       "1           362               155  \n",
       "2           362               155  \n",
       "3          1463               409  \n",
       "4          1204               375  \n",
       "\n",
       "[5 rows x 25 columns]"
      ]
     },
     "execution_count": 18,
     "metadata": {},
     "output_type": "execute_result"
    }
   ],
   "source": [
    "n.head()"
   ]
  },
  {
   "cell_type": "code",
   "execution_count": 19,
   "id": "1d7d45d3",
   "metadata": {},
   "outputs": [],
   "source": [
    "def by_percent(row):\n",
    "    for c in col:\n",
    "        row[c] = row[c]*row[\"tract_percent\"]\n",
    "    return row"
   ]
  },
  {
   "cell_type": "code",
   "execution_count": 20,
   "id": "bce7a785",
   "metadata": {},
   "outputs": [],
   "source": [
    "race_cleaned = n.apply(by_percent, axis=1)"
   ]
  },
  {
   "cell_type": "code",
   "execution_count": 21,
   "id": "0fffae12",
   "metadata": {},
   "outputs": [],
   "source": [
    "race_cleaned = race_cleaned.groupby([\"neighborhood\"]).sum().reset_index()"
   ]
  },
  {
   "cell_type": "code",
   "execution_count": 22,
   "id": "16d6d1c5",
   "metadata": {},
   "outputs": [
    {
     "data": {
      "text/html": [
       "<div>\n",
       "<style scoped>\n",
       "    .dataframe tbody tr th:only-of-type {\n",
       "        vertical-align: middle;\n",
       "    }\n",
       "\n",
       "    .dataframe tbody tr th {\n",
       "        vertical-align: top;\n",
       "    }\n",
       "\n",
       "    .dataframe thead th {\n",
       "        text-align: right;\n",
       "    }\n",
       "</style>\n",
       "<table border=\"1\" class=\"dataframe\">\n",
       "  <thead>\n",
       "    <tr style=\"text-align: right;\">\n",
       "      <th></th>\n",
       "      <th>neighborhood</th>\n",
       "      <th>universe</th>\n",
       "    </tr>\n",
       "  </thead>\n",
       "  <tbody>\n",
       "    <tr>\n",
       "      <th>0</th>\n",
       "      <td>Acton</td>\n",
       "      <td>3271.666094</td>\n",
       "    </tr>\n",
       "    <tr>\n",
       "      <th>1</th>\n",
       "      <td>Adams-Normandie</td>\n",
       "      <td>18168.841674</td>\n",
       "    </tr>\n",
       "    <tr>\n",
       "      <th>2</th>\n",
       "      <td>Agoura Hills</td>\n",
       "      <td>16592.950737</td>\n",
       "    </tr>\n",
       "    <tr>\n",
       "      <th>3</th>\n",
       "      <td>Agua Dulce</td>\n",
       "      <td>4589.923016</td>\n",
       "    </tr>\n",
       "    <tr>\n",
       "      <th>4</th>\n",
       "      <td>Alhambra</td>\n",
       "      <td>82210.087100</td>\n",
       "    </tr>\n",
       "    <tr>\n",
       "      <th>...</th>\n",
       "      <td>...</td>\n",
       "      <td>...</td>\n",
       "    </tr>\n",
       "    <tr>\n",
       "      <th>267</th>\n",
       "      <td>Willowbrook</td>\n",
       "      <td>35749.111820</td>\n",
       "    </tr>\n",
       "    <tr>\n",
       "      <th>268</th>\n",
       "      <td>Wilmington</td>\n",
       "      <td>54977.459862</td>\n",
       "    </tr>\n",
       "    <tr>\n",
       "      <th>269</th>\n",
       "      <td>Windsor Square</td>\n",
       "      <td>6219.678665</td>\n",
       "    </tr>\n",
       "    <tr>\n",
       "      <th>270</th>\n",
       "      <td>Winnetka</td>\n",
       "      <td>52708.663921</td>\n",
       "    </tr>\n",
       "    <tr>\n",
       "      <th>271</th>\n",
       "      <td>Woodland Hills</td>\n",
       "      <td>71742.403501</td>\n",
       "    </tr>\n",
       "  </tbody>\n",
       "</table>\n",
       "<p>272 rows × 2 columns</p>\n",
       "</div>"
      ],
      "text/plain": [
       "        neighborhood      universe\n",
       "0              Acton   3271.666094\n",
       "1    Adams-Normandie  18168.841674\n",
       "2       Agoura Hills  16592.950737\n",
       "3         Agua Dulce   4589.923016\n",
       "4           Alhambra  82210.087100\n",
       "..               ...           ...\n",
       "267      Willowbrook  35749.111820\n",
       "268       Wilmington  54977.459862\n",
       "269   Windsor Square   6219.678665\n",
       "270         Winnetka  52708.663921\n",
       "271   Woodland Hills  71742.403501\n",
       "\n",
       "[272 rows x 2 columns]"
      ]
     },
     "execution_count": 22,
     "metadata": {},
     "output_type": "execute_result"
    }
   ],
   "source": [
    "race_cleaned[[\"neighborhood\",\"universe\"]]\n",
    "# universe is population"
   ]
  },
  {
   "cell_type": "code",
   "execution_count": 23,
   "id": "d1aadd9b-e6ab-45cd-babd-724982a1edb7",
   "metadata": {},
   "outputs": [
    {
     "data": {
      "text/html": [
       "<div>\n",
       "<style scoped>\n",
       "    .dataframe tbody tr th:only-of-type {\n",
       "        vertical-align: middle;\n",
       "    }\n",
       "\n",
       "    .dataframe tbody tr th {\n",
       "        vertical-align: top;\n",
       "    }\n",
       "\n",
       "    .dataframe thead th {\n",
       "        text-align: right;\n",
       "    }\n",
       "</style>\n",
       "<table border=\"1\" class=\"dataframe\">\n",
       "  <thead>\n",
       "    <tr style=\"text-align: right;\">\n",
       "      <th></th>\n",
       "      <th>neighborhood</th>\n",
       "      <th>tract</th>\n",
       "      <th>area</th>\n",
       "      <th>total_tract_area</th>\n",
       "      <th>tract_percent</th>\n",
       "      <th>geoid</th>\n",
       "      <th>name</th>\n",
       "      <th>universe</th>\n",
       "      <th>universe_moe</th>\n",
       "      <th>white_alone</th>\n",
       "      <th>...</th>\n",
       "      <th>asian_alone</th>\n",
       "      <th>asian_alone_moe</th>\n",
       "      <th>native_hawaiian_and_pacific_islander</th>\n",
       "      <th>native_hawaiian_and_pacific_islander_moe</th>\n",
       "      <th>some_other_race</th>\n",
       "      <th>some_other_race_moe</th>\n",
       "      <th>two_or_more_races</th>\n",
       "      <th>two_or_more_races_moe</th>\n",
       "      <th>latino_alone</th>\n",
       "      <th>latino_alone_moe</th>\n",
       "    </tr>\n",
       "  </thead>\n",
       "  <tbody>\n",
       "    <tr>\n",
       "      <th>0</th>\n",
       "      <td>Acton</td>\n",
       "      <td>910213910217910804910814910815</td>\n",
       "      <td>1.096713e+09</td>\n",
       "      <td>7.460476e+09</td>\n",
       "      <td>1.040016</td>\n",
       "      <td>14000US0603791021314000US0603791021714000US060...</td>\n",
       "      <td>Census Tract 9102.13, Los Angeles, CACensus Tr...</td>\n",
       "      <td>3271.666094</td>\n",
       "      <td>2745</td>\n",
       "      <td>1936.668259</td>\n",
       "      <td>...</td>\n",
       "      <td>94.765766</td>\n",
       "      <td>428</td>\n",
       "      <td>0.000000</td>\n",
       "      <td>77</td>\n",
       "      <td>10.616965</td>\n",
       "      <td>314</td>\n",
       "      <td>104.088339</td>\n",
       "      <td>362</td>\n",
       "      <td>1106.160649</td>\n",
       "      <td>1998</td>\n",
       "    </tr>\n",
       "    <tr>\n",
       "      <th>1</th>\n",
       "      <td>Adams-Normandie</td>\n",
       "      <td>2214012214022215002216012216022217102218102219...</td>\n",
       "      <td>2.245187e+07</td>\n",
       "      <td>5.194088e+07</td>\n",
       "      <td>5.047070</td>\n",
       "      <td>14000US0603722140114000US0603722140214000US060...</td>\n",
       "      <td>Census Tract 2214.01, Los Angeles, CACensus Tr...</td>\n",
       "      <td>18168.841674</td>\n",
       "      <td>5069</td>\n",
       "      <td>1808.605248</td>\n",
       "      <td>...</td>\n",
       "      <td>1620.684017</td>\n",
       "      <td>1658</td>\n",
       "      <td>64.396288</td>\n",
       "      <td>244</td>\n",
       "      <td>261.958519</td>\n",
       "      <td>404</td>\n",
       "      <td>520.358547</td>\n",
       "      <td>879</td>\n",
       "      <td>11742.013260</td>\n",
       "      <td>4460</td>\n",
       "    </tr>\n",
       "    <tr>\n",
       "      <th>2</th>\n",
       "      <td>Agoura Hills</td>\n",
       "      <td>800324800328800333800334800335800336800337800338</td>\n",
       "      <td>2.263534e+08</td>\n",
       "      <td>1.278166e+09</td>\n",
       "      <td>3.738362</td>\n",
       "      <td>14000US0603780032414000US0603780032814000US060...</td>\n",
       "      <td>Census Tract 8003.24, Los Angeles, CACensus Tr...</td>\n",
       "      <td>16592.950737</td>\n",
       "      <td>4760</td>\n",
       "      <td>11521.871401</td>\n",
       "      <td>...</td>\n",
       "      <td>1288.573417</td>\n",
       "      <td>1085</td>\n",
       "      <td>21.011226</td>\n",
       "      <td>142</td>\n",
       "      <td>160.334826</td>\n",
       "      <td>460</td>\n",
       "      <td>1020.700533</td>\n",
       "      <td>1369</td>\n",
       "      <td>2311.999281</td>\n",
       "      <td>2598</td>\n",
       "    </tr>\n",
       "    <tr>\n",
       "      <th>3</th>\n",
       "      <td>Agua Dulce</td>\n",
       "      <td>910217910804910808910810910814910815920050</td>\n",
       "      <td>8.771285e+08</td>\n",
       "      <td>1.000310e+10</td>\n",
       "      <td>1.362519</td>\n",
       "      <td>14000US0603791021714000US0603791080414000US060...</td>\n",
       "      <td>Census Tract 9102.17, Los Angeles, CACensus Tr...</td>\n",
       "      <td>4589.923016</td>\n",
       "      <td>3897</td>\n",
       "      <td>2736.945065</td>\n",
       "      <td>...</td>\n",
       "      <td>233.744590</td>\n",
       "      <td>690</td>\n",
       "      <td>0.000000</td>\n",
       "      <td>103</td>\n",
       "      <td>4.044070</td>\n",
       "      <td>345</td>\n",
       "      <td>180.928868</td>\n",
       "      <td>476</td>\n",
       "      <td>1287.629462</td>\n",
       "      <td>2598</td>\n",
       "    </tr>\n",
       "    <tr>\n",
       "      <th>4</th>\n",
       "      <td>Alhambra</td>\n",
       "      <td>2011202015012016022017004641024802014803024803...</td>\n",
       "      <td>2.125398e+08</td>\n",
       "      <td>3.769406e+08</td>\n",
       "      <td>19.991537</td>\n",
       "      <td>14000US0603720112014000US0603720150114000US060...</td>\n",
       "      <td>Census Tract 2011.20, Los Angeles, CACensus Tr...</td>\n",
       "      <td>82210.087100</td>\n",
       "      <td>16428</td>\n",
       "      <td>7321.352073</td>\n",
       "      <td>...</td>\n",
       "      <td>41962.939038</td>\n",
       "      <td>12605</td>\n",
       "      <td>97.000534</td>\n",
       "      <td>672</td>\n",
       "      <td>162.728216</td>\n",
       "      <td>621</td>\n",
       "      <td>1634.085008</td>\n",
       "      <td>2144</td>\n",
       "      <td>28838.959201</td>\n",
       "      <td>11597</td>\n",
       "    </tr>\n",
       "  </tbody>\n",
       "</table>\n",
       "<p>5 rows × 25 columns</p>\n",
       "</div>"
      ],
      "text/plain": [
       "      neighborhood                                              tract  \\\n",
       "0            Acton                     910213910217910804910814910815   \n",
       "1  Adams-Normandie  2214012214022215002216012216022217102218102219...   \n",
       "2     Agoura Hills   800324800328800333800334800335800336800337800338   \n",
       "3       Agua Dulce         910217910804910808910810910814910815920050   \n",
       "4         Alhambra  2011202015012016022017004641024802014803024803...   \n",
       "\n",
       "           area  total_tract_area  tract_percent  \\\n",
       "0  1.096713e+09      7.460476e+09       1.040016   \n",
       "1  2.245187e+07      5.194088e+07       5.047070   \n",
       "2  2.263534e+08      1.278166e+09       3.738362   \n",
       "3  8.771285e+08      1.000310e+10       1.362519   \n",
       "4  2.125398e+08      3.769406e+08      19.991537   \n",
       "\n",
       "                                               geoid  \\\n",
       "0  14000US0603791021314000US0603791021714000US060...   \n",
       "1  14000US0603722140114000US0603722140214000US060...   \n",
       "2  14000US0603780032414000US0603780032814000US060...   \n",
       "3  14000US0603791021714000US0603791080414000US060...   \n",
       "4  14000US0603720112014000US0603720150114000US060...   \n",
       "\n",
       "                                                name      universe  \\\n",
       "0  Census Tract 9102.13, Los Angeles, CACensus Tr...   3271.666094   \n",
       "1  Census Tract 2214.01, Los Angeles, CACensus Tr...  18168.841674   \n",
       "2  Census Tract 8003.24, Los Angeles, CACensus Tr...  16592.950737   \n",
       "3  Census Tract 9102.17, Los Angeles, CACensus Tr...   4589.923016   \n",
       "4  Census Tract 2011.20, Los Angeles, CACensus Tr...  82210.087100   \n",
       "\n",
       "   universe_moe   white_alone  ...   asian_alone  asian_alone_moe  \\\n",
       "0          2745   1936.668259  ...     94.765766              428   \n",
       "1          5069   1808.605248  ...   1620.684017             1658   \n",
       "2          4760  11521.871401  ...   1288.573417             1085   \n",
       "3          3897   2736.945065  ...    233.744590              690   \n",
       "4         16428   7321.352073  ...  41962.939038            12605   \n",
       "\n",
       "   native_hawaiian_and_pacific_islander  \\\n",
       "0                              0.000000   \n",
       "1                             64.396288   \n",
       "2                             21.011226   \n",
       "3                              0.000000   \n",
       "4                             97.000534   \n",
       "\n",
       "   native_hawaiian_and_pacific_islander_moe  some_other_race  \\\n",
       "0                                        77        10.616965   \n",
       "1                                       244       261.958519   \n",
       "2                                       142       160.334826   \n",
       "3                                       103         4.044070   \n",
       "4                                       672       162.728216   \n",
       "\n",
       "   some_other_race_moe  two_or_more_races  two_or_more_races_moe  \\\n",
       "0                  314         104.088339                    362   \n",
       "1                  404         520.358547                    879   \n",
       "2                  460        1020.700533                   1369   \n",
       "3                  345         180.928868                    476   \n",
       "4                  621        1634.085008                   2144   \n",
       "\n",
       "   latino_alone  latino_alone_moe  \n",
       "0   1106.160649              1998  \n",
       "1  11742.013260              4460  \n",
       "2   2311.999281              2598  \n",
       "3   1287.629462              2598  \n",
       "4  28838.959201             11597  \n",
       "\n",
       "[5 rows x 25 columns]"
      ]
     },
     "execution_count": 23,
     "metadata": {},
     "output_type": "execute_result"
    }
   ],
   "source": [
    "race_cleaned.head()"
   ]
  },
  {
   "cell_type": "code",
   "execution_count": 24,
   "id": "507d2117-7d4e-4b29-9821-699b2ae87251",
   "metadata": {},
   "outputs": [
    {
     "data": {
      "text/plain": [
       "np.float64(9874682.174599797)"
      ]
     },
     "execution_count": 24,
     "metadata": {},
     "output_type": "execute_result"
    }
   ],
   "source": [
    "race_cleaned.universe.sum()"
   ]
  },
  {
   "cell_type": "code",
   "execution_count": 25,
   "id": "0b674e3d",
   "metadata": {},
   "outputs": [],
   "source": [
    "# calculate percentages for each race group         \n",
    "race_cleaned[\"white_percent\"] = race_cleaned.white_alone/race_cleaned.universe\n",
    "race_cleaned[\"black_percent\"] = race_cleaned.black_alone/race_cleaned.universe\n",
    "race_cleaned[\"american_indian_percent\"] = race_cleaned.american_indian_and_alaska_native/race_cleaned.universe\n",
    "race_cleaned[\"asian_percent\"] = race_cleaned.asian_alone/race_cleaned.universe\n",
    "race_cleaned[\"native_hawaiian_percent\"] = race_cleaned.native_hawaiian_and_pacific_islander/race_cleaned.universe\n",
    "race_cleaned[\"other_percent\"] = race_cleaned.some_other_race/race_cleaned.universe\n",
    "race_cleaned[\"two_or_more_races_percent\"] = race_cleaned.two_or_more_races/race_cleaned.universe\n",
    "race_cleaned[\"latino_percent\"] = race_cleaned.latino_alone/race_cleaned.universe\n",
    "race_cleaned[\"non_latino_percent\"]= 1-race_cleaned.latino_percent"
   ]
  },
  {
   "cell_type": "code",
   "execution_count": 26,
   "id": "d2cb00e8",
   "metadata": {},
   "outputs": [],
   "source": [
    "race_cleaned[\"nonwhite_percent\"]=(1-race_cleaned.white_percent)"
   ]
  },
  {
   "cell_type": "code",
   "execution_count": 27,
   "id": "8c50180a",
   "metadata": {},
   "outputs": [],
   "source": [
    "# this checks if the race is part of the majority\n",
    "\n",
    "race_cleaned[\"majority_nonwhite\"] = race_cleaned.nonwhite_percent > 0.5\n",
    "race_cleaned[\"majority_white\"] = race_cleaned.white_percent  > 0.5\n",
    "race_cleaned[\"majority_black\"]= race_cleaned.black_percent > 0.5\n",
    "race_cleaned[\"majority_asian\"]= race_cleaned.asian_percent > 0.5\n",
    "race_cleaned[\"majority_latino\"] = race_cleaned.latino_percent > 0.5"
   ]
  },
  {
   "cell_type": "code",
   "execution_count": 28,
   "id": "02c4f615-0b36-4dd2-ab26-c217a0c2a0bf",
   "metadata": {},
   "outputs": [],
   "source": [
    "# add in diversity index from https://www.usatoday.com/story/news/nation/2014/10/21/diversity-index-data-how-we-did-report/17432103/ \n",
    "# and https://github.com/censusreporter/nicar16-diversity-index/blob/master/Walkthrough.ipynb\n",
    "\n",
    "race_cleaned[\"diversity_index\"]= 1-( \n",
    "              (race_cleaned.white_percent**2 + race_cleaned.black_percent**2 + race_cleaned.american_indian_percent**2 + race_cleaned.asian_percent**2 + race_cleaned.native_hawaiian_percent**2 ) * \n",
    "              (race_cleaned.latino_percent**2 + race_cleaned.non_latino_percent**2)\n",
    "           )"
   ]
  },
  {
   "cell_type": "code",
   "execution_count": 29,
   "id": "cd598ebc",
   "metadata": {},
   "outputs": [
    {
     "data": {
      "text/plain": [
       "272"
      ]
     },
     "execution_count": 29,
     "metadata": {},
     "output_type": "execute_result"
    }
   ],
   "source": [
    "len(race_cleaned)"
   ]
  },
  {
   "cell_type": "code",
   "execution_count": 30,
   "id": "de15a33a-888d-4996-a4dc-fd7dfbe586d3",
   "metadata": {},
   "outputs": [
    {
     "data": {
      "text/plain": [
       "['neighborhood',\n",
       " 'tract',\n",
       " 'area',\n",
       " 'total_tract_area',\n",
       " 'tract_percent',\n",
       " 'geoid',\n",
       " 'name',\n",
       " 'universe',\n",
       " 'universe_moe',\n",
       " 'white_alone',\n",
       " 'white_alone_moe',\n",
       " 'black_alone',\n",
       " 'black_alone_moe',\n",
       " 'american_indian_and_alaska_native',\n",
       " 'american_indian_and_alaska_native_moe',\n",
       " 'asian_alone',\n",
       " 'asian_alone_moe',\n",
       " 'native_hawaiian_and_pacific_islander',\n",
       " 'native_hawaiian_and_pacific_islander_moe',\n",
       " 'some_other_race',\n",
       " 'some_other_race_moe',\n",
       " 'two_or_more_races',\n",
       " 'two_or_more_races_moe',\n",
       " 'latino_alone',\n",
       " 'latino_alone_moe',\n",
       " 'white_percent',\n",
       " 'black_percent',\n",
       " 'american_indian_percent',\n",
       " 'asian_percent',\n",
       " 'native_hawaiian_percent',\n",
       " 'other_percent',\n",
       " 'two_or_more_races_percent',\n",
       " 'latino_percent',\n",
       " 'non_latino_percent',\n",
       " 'nonwhite_percent',\n",
       " 'majority_nonwhite',\n",
       " 'majority_white',\n",
       " 'majority_black',\n",
       " 'majority_asian',\n",
       " 'majority_latino',\n",
       " 'diversity_index']"
      ]
     },
     "execution_count": 30,
     "metadata": {},
     "output_type": "execute_result"
    }
   ],
   "source": [
    "list(race_cleaned)\n",
    "\n",
    "# if moe is high, rethink if we should be using these variables"
   ]
  },
  {
   "cell_type": "code",
   "execution_count": 31,
   "id": "46cc1bfc-2115-48d3-a593-0916dbd08e9d",
   "metadata": {},
   "outputs": [],
   "source": [
    "# cut the df \n",
    "race_neighborhoods = race_cleaned[[\n",
    "\"neighborhood\",\n",
    "\"universe\",                           \n",
    "'white_alone',\n",
    "'black_alone',\n",
    "'american_indian_and_alaska_native', \n",
    "'asian_alone',\n",
    "'native_hawaiian_and_pacific_islander',\n",
    "'some_other_race',\n",
    "'two_or_more_races',\n",
    "'latino_alone',\n",
    "'white_percent',\n",
    "'black_percent',\n",
    "'american_indian_percent',\n",
    "'asian_percent',\n",
    "'native_hawaiian_percent',\n",
    "'other_percent',\n",
    "'two_or_more_races_percent',\n",
    "'latino_percent',\n",
    "'nonwhite_percent',\n",
    "'majority_nonwhite',\n",
    "'majority_white',\n",
    "'majority_black',\n",
    "'majority_asian',\n",
    "'majority_latino',\n",
    "'non_latino_percent',\n",
    "'diversity_index']]"
   ]
  },
  {
   "cell_type": "code",
   "execution_count": 32,
   "id": "ae6d9b02-3d0f-4568-aef2-7e1de9db36a4",
   "metadata": {},
   "outputs": [
    {
     "name": "stderr",
     "output_type": "stream",
     "text": [
      "/var/folders/4f/fk_hbgy14cg47tw521m3y0xw0000gn/T/ipykernel_33731/2812149084.py:1: SettingWithCopyWarning: \n",
      "A value is trying to be set on a copy of a slice from a DataFrame\n",
      "\n",
      "See the caveats in the documentation: https://pandas.pydata.org/pandas-docs/stable/user_guide/indexing.html#returning-a-view-versus-a-copy\n",
      "  race_neighborhoods.rename(columns={\"universe\": \"total_population\"},inplace=True)\n"
     ]
    }
   ],
   "source": [
    "race_neighborhoods.rename(columns={\"universe\": \"total_population\"},inplace=True)"
   ]
  },
  {
   "cell_type": "code",
   "execution_count": 33,
   "id": "43ae8881",
   "metadata": {},
   "outputs": [],
   "source": [
    "race_neighborhoods.to_csv(\"../data/output/race_neighborhoods.csv\", index=False)"
   ]
  },
  {
   "cell_type": "markdown",
   "id": "e99a2775-71c7-467d-8f96-2318111e8bbe",
   "metadata": {},
   "source": [
    "## Get top neighborhoods"
   ]
  },
  {
   "cell_type": "code",
   "execution_count": 34,
   "id": "5569613f-a832-4885-bb35-b5d09f5ed75c",
   "metadata": {},
   "outputs": [
    {
     "data": {
      "text/plain": [
       "272"
      ]
     },
     "execution_count": 34,
     "metadata": {},
     "output_type": "execute_result"
    }
   ],
   "source": [
    "len(race_neighborhoods)"
   ]
  },
  {
   "cell_type": "code",
   "execution_count": 35,
   "id": "7e43a4f8-ab3e-499d-b58d-9264731dffcd",
   "metadata": {},
   "outputs": [
    {
     "data": {
      "text/plain": [
       "Index(['neighborhood', 'total_population', 'white_alone', 'black_alone',\n",
       "       'american_indian_and_alaska_native', 'asian_alone',\n",
       "       'native_hawaiian_and_pacific_islander', 'some_other_race',\n",
       "       'two_or_more_races', 'latino_alone', 'white_percent', 'black_percent',\n",
       "       'american_indian_percent', 'asian_percent', 'native_hawaiian_percent',\n",
       "       'other_percent', 'two_or_more_races_percent', 'latino_percent',\n",
       "       'nonwhite_percent', 'majority_nonwhite', 'majority_white',\n",
       "       'majority_black', 'majority_asian', 'majority_latino',\n",
       "       'non_latino_percent', 'diversity_index'],\n",
       "      dtype='object')"
      ]
     },
     "execution_count": 35,
     "metadata": {},
     "output_type": "execute_result"
    }
   ],
   "source": [
    "race_neighborhoods.columns"
   ]
  },
  {
   "cell_type": "markdown",
   "id": "d7c97ec1-114d-47c7-8f78-79e74ffb2d7d",
   "metadata": {},
   "source": [
    "### Plurality Black neighborhoods\n",
    "\n",
    "(Plurality is when a neighborhood does not have an absolute majority race.)"
   ]
  },
  {
   "cell_type": "code",
   "execution_count": 36,
   "id": "1a33a841-dd09-4eb1-bcf8-8b33f9325a3f",
   "metadata": {},
   "outputs": [
    {
     "data": {
      "text/html": [
       "<div>\n",
       "<style scoped>\n",
       "    .dataframe tbody tr th:only-of-type {\n",
       "        vertical-align: middle;\n",
       "    }\n",
       "\n",
       "    .dataframe tbody tr th {\n",
       "        vertical-align: top;\n",
       "    }\n",
       "\n",
       "    .dataframe thead th {\n",
       "        text-align: right;\n",
       "    }\n",
       "</style>\n",
       "<table border=\"1\" class=\"dataframe\">\n",
       "  <thead>\n",
       "    <tr style=\"text-align: right;\">\n",
       "      <th></th>\n",
       "      <th>neighborhood</th>\n",
       "      <th>total_population</th>\n",
       "      <th>white_alone</th>\n",
       "      <th>black_alone</th>\n",
       "      <th>american_indian_and_alaska_native</th>\n",
       "      <th>asian_alone</th>\n",
       "      <th>native_hawaiian_and_pacific_islander</th>\n",
       "      <th>some_other_race</th>\n",
       "      <th>two_or_more_races</th>\n",
       "      <th>latino_alone</th>\n",
       "      <th>...</th>\n",
       "      <th>two_or_more_races_percent</th>\n",
       "      <th>latino_percent</th>\n",
       "      <th>nonwhite_percent</th>\n",
       "      <th>majority_nonwhite</th>\n",
       "      <th>majority_white</th>\n",
       "      <th>majority_black</th>\n",
       "      <th>majority_asian</th>\n",
       "      <th>majority_latino</th>\n",
       "      <th>non_latino_percent</th>\n",
       "      <th>diversity_index</th>\n",
       "    </tr>\n",
       "  </thead>\n",
       "  <tbody>\n",
       "    <tr>\n",
       "      <th>12</th>\n",
       "      <td>Athens</td>\n",
       "      <td>9950.445938</td>\n",
       "      <td>183.979684</td>\n",
       "      <td>5454.441475</td>\n",
       "      <td>44.999998</td>\n",
       "      <td>192.965870</td>\n",
       "      <td>40.999955</td>\n",
       "      <td>22.126710</td>\n",
       "      <td>203.971149</td>\n",
       "      <td>3806.961097</td>\n",
       "      <td>...</td>\n",
       "      <td>0.020499</td>\n",
       "      <td>0.382592</td>\n",
       "      <td>0.981510</td>\n",
       "      <td>True</td>\n",
       "      <td>False</td>\n",
       "      <td>True</td>\n",
       "      <td>False</td>\n",
       "      <td>False</td>\n",
       "      <td>0.617408</td>\n",
       "      <td>0.841078</td>\n",
       "    </tr>\n",
       "    <tr>\n",
       "      <th>17</th>\n",
       "      <td>Baldwin Hills/Crenshaw</td>\n",
       "      <td>33523.653022</td>\n",
       "      <td>2759.158072</td>\n",
       "      <td>17407.912381</td>\n",
       "      <td>40.107313</td>\n",
       "      <td>1523.961052</td>\n",
       "      <td>10.042896</td>\n",
       "      <td>97.675273</td>\n",
       "      <td>1002.654745</td>\n",
       "      <td>10682.141290</td>\n",
       "      <td>...</td>\n",
       "      <td>0.029909</td>\n",
       "      <td>0.318645</td>\n",
       "      <td>0.917695</td>\n",
       "      <td>True</td>\n",
       "      <td>False</td>\n",
       "      <td>True</td>\n",
       "      <td>False</td>\n",
       "      <td>False</td>\n",
       "      <td>0.681355</td>\n",
       "      <td>0.842438</td>\n",
       "    </tr>\n",
       "    <tr>\n",
       "      <th>85</th>\n",
       "      <td>Gramercy Park</td>\n",
       "      <td>10589.371947</td>\n",
       "      <td>247.326293</td>\n",
       "      <td>5990.542382</td>\n",
       "      <td>0.000003</td>\n",
       "      <td>22.000192</td>\n",
       "      <td>17.608381</td>\n",
       "      <td>126.193402</td>\n",
       "      <td>880.311721</td>\n",
       "      <td>3305.389573</td>\n",
       "      <td>...</td>\n",
       "      <td>0.083132</td>\n",
       "      <td>0.312142</td>\n",
       "      <td>0.976644</td>\n",
       "      <td>True</td>\n",
       "      <td>False</td>\n",
       "      <td>True</td>\n",
       "      <td>False</td>\n",
       "      <td>False</td>\n",
       "      <td>0.687858</td>\n",
       "      <td>0.817081</td>\n",
       "    </tr>\n",
       "    <tr>\n",
       "      <th>108</th>\n",
       "      <td>Hyde Park</td>\n",
       "      <td>36090.210382</td>\n",
       "      <td>1927.044233</td>\n",
       "      <td>19981.463023</td>\n",
       "      <td>13.196772</td>\n",
       "      <td>676.194023</td>\n",
       "      <td>101.140508</td>\n",
       "      <td>334.309090</td>\n",
       "      <td>1455.763149</td>\n",
       "      <td>11601.099585</td>\n",
       "      <td>...</td>\n",
       "      <td>0.040337</td>\n",
       "      <td>0.321447</td>\n",
       "      <td>0.946605</td>\n",
       "      <td>True</td>\n",
       "      <td>False</td>\n",
       "      <td>True</td>\n",
       "      <td>False</td>\n",
       "      <td>False</td>\n",
       "      <td>0.678553</td>\n",
       "      <td>0.825379</td>\n",
       "    </tr>\n",
       "    <tr>\n",
       "      <th>120</th>\n",
       "      <td>Ladera Heights</td>\n",
       "      <td>6670.475962</td>\n",
       "      <td>978.179785</td>\n",
       "      <td>4222.777504</td>\n",
       "      <td>82.486823</td>\n",
       "      <td>265.792457</td>\n",
       "      <td>0.024510</td>\n",
       "      <td>0.041853</td>\n",
       "      <td>581.517049</td>\n",
       "      <td>539.655983</td>\n",
       "      <td>...</td>\n",
       "      <td>0.087178</td>\n",
       "      <td>0.080902</td>\n",
       "      <td>0.853357</td>\n",
       "      <td>True</td>\n",
       "      <td>False</td>\n",
       "      <td>True</td>\n",
       "      <td>False</td>\n",
       "      <td>False</td>\n",
       "      <td>0.919098</td>\n",
       "      <td>0.639052</td>\n",
       "    </tr>\n",
       "    <tr>\n",
       "      <th>129</th>\n",
       "      <td>Leimert Park</td>\n",
       "      <td>12752.471439</td>\n",
       "      <td>785.857019</td>\n",
       "      <td>7839.521058</td>\n",
       "      <td>14.893178</td>\n",
       "      <td>290.685893</td>\n",
       "      <td>4.965628</td>\n",
       "      <td>94.698459</td>\n",
       "      <td>302.860456</td>\n",
       "      <td>3418.989749</td>\n",
       "      <td>...</td>\n",
       "      <td>0.023749</td>\n",
       "      <td>0.268104</td>\n",
       "      <td>0.938376</td>\n",
       "      <td>True</td>\n",
       "      <td>False</td>\n",
       "      <td>True</td>\n",
       "      <td>False</td>\n",
       "      <td>False</td>\n",
       "      <td>0.731896</td>\n",
       "      <td>0.767775</td>\n",
       "    </tr>\n",
       "    <tr>\n",
       "      <th>140</th>\n",
       "      <td>Manchester Square</td>\n",
       "      <td>12589.072470</td>\n",
       "      <td>367.554492</td>\n",
       "      <td>7520.952555</td>\n",
       "      <td>15.356332</td>\n",
       "      <td>45.874408</td>\n",
       "      <td>0.391619</td>\n",
       "      <td>51.806606</td>\n",
       "      <td>485.916434</td>\n",
       "      <td>4101.220024</td>\n",
       "      <td>...</td>\n",
       "      <td>0.038598</td>\n",
       "      <td>0.325776</td>\n",
       "      <td>0.970804</td>\n",
       "      <td>True</td>\n",
       "      <td>False</td>\n",
       "      <td>True</td>\n",
       "      <td>False</td>\n",
       "      <td>False</td>\n",
       "      <td>0.674224</td>\n",
       "      <td>0.799392</td>\n",
       "    </tr>\n",
       "    <tr>\n",
       "      <th>245</th>\n",
       "      <td>View Park-Windsor Hills</td>\n",
       "      <td>11998.996777</td>\n",
       "      <td>1140.999409</td>\n",
       "      <td>8745.994786</td>\n",
       "      <td>89.999849</td>\n",
       "      <td>439.999718</td>\n",
       "      <td>17.999987</td>\n",
       "      <td>86.000038</td>\n",
       "      <td>565.000241</td>\n",
       "      <td>913.002749</td>\n",
       "      <td>...</td>\n",
       "      <td>0.047087</td>\n",
       "      <td>0.076090</td>\n",
       "      <td>0.904909</td>\n",
       "      <td>True</td>\n",
       "      <td>False</td>\n",
       "      <td>True</td>\n",
       "      <td>False</td>\n",
       "      <td>False</td>\n",
       "      <td>0.923910</td>\n",
       "      <td>0.534436</td>\n",
       "    </tr>\n",
       "  </tbody>\n",
       "</table>\n",
       "<p>8 rows × 26 columns</p>\n",
       "</div>"
      ],
      "text/plain": [
       "                neighborhood  total_population  white_alone   black_alone  \\\n",
       "12                    Athens       9950.445938   183.979684   5454.441475   \n",
       "17    Baldwin Hills/Crenshaw      33523.653022  2759.158072  17407.912381   \n",
       "85             Gramercy Park      10589.371947   247.326293   5990.542382   \n",
       "108                Hyde Park      36090.210382  1927.044233  19981.463023   \n",
       "120           Ladera Heights       6670.475962   978.179785   4222.777504   \n",
       "129             Leimert Park      12752.471439   785.857019   7839.521058   \n",
       "140        Manchester Square      12589.072470   367.554492   7520.952555   \n",
       "245  View Park-Windsor Hills      11998.996777  1140.999409   8745.994786   \n",
       "\n",
       "     american_indian_and_alaska_native  asian_alone  \\\n",
       "12                           44.999998   192.965870   \n",
       "17                           40.107313  1523.961052   \n",
       "85                            0.000003    22.000192   \n",
       "108                          13.196772   676.194023   \n",
       "120                          82.486823   265.792457   \n",
       "129                          14.893178   290.685893   \n",
       "140                          15.356332    45.874408   \n",
       "245                          89.999849   439.999718   \n",
       "\n",
       "     native_hawaiian_and_pacific_islander  some_other_race  two_or_more_races  \\\n",
       "12                              40.999955        22.126710         203.971149   \n",
       "17                              10.042896        97.675273        1002.654745   \n",
       "85                              17.608381       126.193402         880.311721   \n",
       "108                            101.140508       334.309090        1455.763149   \n",
       "120                              0.024510         0.041853         581.517049   \n",
       "129                              4.965628        94.698459         302.860456   \n",
       "140                              0.391619        51.806606         485.916434   \n",
       "245                             17.999987        86.000038         565.000241   \n",
       "\n",
       "     latino_alone  ...  two_or_more_races_percent  latino_percent  \\\n",
       "12    3806.961097  ...                   0.020499        0.382592   \n",
       "17   10682.141290  ...                   0.029909        0.318645   \n",
       "85    3305.389573  ...                   0.083132        0.312142   \n",
       "108  11601.099585  ...                   0.040337        0.321447   \n",
       "120    539.655983  ...                   0.087178        0.080902   \n",
       "129   3418.989749  ...                   0.023749        0.268104   \n",
       "140   4101.220024  ...                   0.038598        0.325776   \n",
       "245    913.002749  ...                   0.047087        0.076090   \n",
       "\n",
       "     nonwhite_percent  majority_nonwhite  majority_white  majority_black  \\\n",
       "12           0.981510               True           False            True   \n",
       "17           0.917695               True           False            True   \n",
       "85           0.976644               True           False            True   \n",
       "108          0.946605               True           False            True   \n",
       "120          0.853357               True           False            True   \n",
       "129          0.938376               True           False            True   \n",
       "140          0.970804               True           False            True   \n",
       "245          0.904909               True           False            True   \n",
       "\n",
       "     majority_asian  majority_latino  non_latino_percent  diversity_index  \n",
       "12            False            False            0.617408         0.841078  \n",
       "17            False            False            0.681355         0.842438  \n",
       "85            False            False            0.687858         0.817081  \n",
       "108           False            False            0.678553         0.825379  \n",
       "120           False            False            0.919098         0.639052  \n",
       "129           False            False            0.731896         0.767775  \n",
       "140           False            False            0.674224         0.799392  \n",
       "245           False            False            0.923910         0.534436  \n",
       "\n",
       "[8 rows x 26 columns]"
      ]
     },
     "execution_count": 36,
     "metadata": {},
     "output_type": "execute_result"
    }
   ],
   "source": [
    "race_neighborhoods.loc[\n",
    "    (race_neighborhoods[\"black_percent\"] > race_neighborhoods[\"white_percent\"]) & \n",
    "    (race_neighborhoods[\"black_percent\"] > race_neighborhoods[\"latino_percent\"]) &\n",
    "    (race_neighborhoods[\"black_percent\"] > race_neighborhoods[\"asian_percent\"])\n",
    "]"
   ]
  },
  {
   "cell_type": "code",
   "execution_count": 37,
   "id": "13176450-8ab1-4a85-b948-2dd700fbd44f",
   "metadata": {},
   "outputs": [
    {
     "data": {
      "text/plain": [
       "['Athens',\n",
       " 'Baldwin Hills/Crenshaw',\n",
       " 'Gramercy Park',\n",
       " 'Hyde Park',\n",
       " 'Ladera Heights',\n",
       " 'Leimert Park',\n",
       " 'Manchester Square',\n",
       " 'View Park-Windsor Hills']"
      ]
     },
     "execution_count": 37,
     "metadata": {},
     "output_type": "execute_result"
    }
   ],
   "source": [
    "race_neighborhoods.loc[\n",
    "    (race_neighborhoods[\"black_percent\"] > race_neighborhoods[\"white_percent\"]) & \n",
    "    (race_neighborhoods[\"black_percent\"] > race_neighborhoods[\"latino_percent\"]) &\n",
    "    (race_neighborhoods[\"black_percent\"] > race_neighborhoods[\"asian_percent\"])\n",
    "][\"neighborhood\"].tolist()"
   ]
  },
  {
   "cell_type": "markdown",
   "id": "04fe1550-9e71-4b17-880e-eb2e3bb0e27e",
   "metadata": {},
   "source": [
    "### Majority Latino neighborhoods"
   ]
  },
  {
   "cell_type": "code",
   "execution_count": 38,
   "id": "f9b06dba-d74f-424e-93c9-3071d859f519",
   "metadata": {},
   "outputs": [
    {
     "data": {
      "text/plain": [
       "107"
      ]
     },
     "execution_count": 38,
     "metadata": {},
     "output_type": "execute_result"
    }
   ],
   "source": [
    "len(race_neighborhoods.loc[race_neighborhoods[\"majority_latino\"] == True])"
   ]
  },
  {
   "cell_type": "code",
   "execution_count": 39,
   "id": "bf969921-498f-4bb1-9b2c-3d613eeac8c3",
   "metadata": {},
   "outputs": [
    {
     "data": {
      "text/plain": [
       "['Adams-Normandie',\n",
       " 'Alondra Park',\n",
       " 'Arleta',\n",
       " 'Arlington Heights',\n",
       " 'Avalon',\n",
       " 'Avocado Heights',\n",
       " 'Azusa',\n",
       " 'Baldwin Park',\n",
       " 'Bell',\n",
       " 'Bell Gardens',\n",
       " 'Bellflower',\n",
       " 'Boyle Heights',\n",
       " 'Broadway-Manchester',\n",
       " 'Canoga Park',\n",
       " 'Central-Alameda',\n",
       " 'Charter Oak',\n",
       " 'Chesterfield Square',\n",
       " 'Citrus',\n",
       " 'Commerce',\n",
       " 'Compton',\n",
       " 'Covina',\n",
       " 'Cudahy',\n",
       " 'Cypress Park',\n",
       " 'Desert View Highlands',\n",
       " 'Downey',\n",
       " 'Duarte',\n",
       " 'East Compton',\n",
       " 'East Hollywood',\n",
       " 'East La Mirada',\n",
       " 'East Los Angeles',\n",
       " 'El Monte',\n",
       " 'El Sereno',\n",
       " 'Exposition Park',\n",
       " 'Florence',\n",
       " 'Florence-Firestone',\n",
       " 'Glassell Park',\n",
       " 'Green Meadows',\n",
       " 'Hansen Dam',\n",
       " 'Harbor Gateway',\n",
       " 'Harvard Heights',\n",
       " 'Harvard Park',\n",
       " 'Hawaiian Gardens',\n",
       " 'Hawthorne',\n",
       " 'Highland Park',\n",
       " 'Historic South-Central',\n",
       " 'Huntington Park',\n",
       " 'Industry',\n",
       " 'Inglewood',\n",
       " 'Irwindale',\n",
       " 'Jefferson Park',\n",
       " 'La Puente',\n",
       " 'Lake Los Angeles',\n",
       " 'Lake View Terrace',\n",
       " 'Lawndale',\n",
       " 'Lennox',\n",
       " 'Lincoln Heights',\n",
       " 'Littlerock',\n",
       " 'Lynwood',\n",
       " 'Mayflower Village',\n",
       " 'Maywood',\n",
       " 'Mission Hills',\n",
       " 'Montebello',\n",
       " 'North Hills',\n",
       " 'North Whittier',\n",
       " 'Northeast Antelope Valley',\n",
       " 'Norwalk',\n",
       " 'Pacoima',\n",
       " 'Palmdale',\n",
       " 'Panorama City',\n",
       " 'Paramount',\n",
       " 'Pico Rivera',\n",
       " 'Pico-Union',\n",
       " 'Pomona',\n",
       " 'Rancho Dominguez',\n",
       " 'Reseda',\n",
       " 'San Fernando',\n",
       " 'San Pedro',\n",
       " 'Santa Fe Springs',\n",
       " 'South El Monte',\n",
       " 'South Gate',\n",
       " 'South Park',\n",
       " 'South San Jose Hills',\n",
       " 'South Whittier',\n",
       " 'Sun Valley',\n",
       " 'Sun Village',\n",
       " 'Sylmar',\n",
       " 'Val Verde',\n",
       " 'Valinda',\n",
       " 'Van Nuys',\n",
       " 'Vermont Knolls',\n",
       " 'Vermont Square',\n",
       " 'Vermont Vista',\n",
       " 'Vermont-Slauson',\n",
       " 'Vernon',\n",
       " 'Vincent',\n",
       " 'Walnut Park',\n",
       " 'Watts',\n",
       " 'West Adams',\n",
       " 'West Covina',\n",
       " 'West Puente Valley',\n",
       " 'West Whittier-Los Nietos',\n",
       " 'Westlake',\n",
       " 'Westmont',\n",
       " 'Whittier',\n",
       " 'Whittier Narrows',\n",
       " 'Willowbrook',\n",
       " 'Wilmington']"
      ]
     },
     "execution_count": 39,
     "metadata": {},
     "output_type": "execute_result"
    }
   ],
   "source": [
    "race_neighborhoods.loc[race_neighborhoods[\"majority_latino\"] == True][\"neighborhood\"].tolist()"
   ]
  },
  {
   "cell_type": "markdown",
   "id": "861f3c2d-a47d-4a0a-9302-8264240a0e28",
   "metadata": {},
   "source": [
    "### Majority white neighborhoods"
   ]
  },
  {
   "cell_type": "code",
   "execution_count": 40,
   "id": "d882188b-5078-484c-9914-abeb9a8534a6",
   "metadata": {},
   "outputs": [
    {
     "data": {
      "text/plain": [
       "70"
      ]
     },
     "execution_count": 40,
     "metadata": {},
     "output_type": "execute_result"
    }
   ],
   "source": [
    "len(race_neighborhoods.loc[race_neighborhoods[\"majority_white\"] == True])"
   ]
  },
  {
   "cell_type": "code",
   "execution_count": 41,
   "id": "ed6e5cae-c9f5-409f-9179-c0d8601ea434",
   "metadata": {},
   "outputs": [
    {
     "data": {
      "text/plain": [
       "['Acton',\n",
       " 'Agoura Hills',\n",
       " 'Agua Dulce',\n",
       " 'Angeles Crest',\n",
       " 'Bel-Air',\n",
       " 'Beverly Crest',\n",
       " 'Beverly Grove',\n",
       " 'Beverly Hills',\n",
       " 'Beverlywood',\n",
       " 'Bradbury',\n",
       " 'Brentwood',\n",
       " 'Burbank',\n",
       " 'Calabasas',\n",
       " 'Carthay',\n",
       " 'Century City',\n",
       " 'Cheviot Hills',\n",
       " 'El Segundo',\n",
       " 'Elizabeth Lake',\n",
       " 'Encino',\n",
       " 'Fairfax',\n",
       " 'Glendale',\n",
       " 'Green Valley',\n",
       " 'Griffith Park',\n",
       " 'Hancock Park',\n",
       " 'Hermosa Beach',\n",
       " 'Hidden Hills',\n",
       " 'Hollywood Hills',\n",
       " 'Hollywood Hills West',\n",
       " 'La Cañada Flintridge',\n",
       " 'Leona Valley',\n",
       " 'Los Feliz',\n",
       " 'Malibu',\n",
       " 'Manhattan Beach',\n",
       " 'Mar Vista',\n",
       " 'Marina del Rey',\n",
       " 'Northwest Antelope Valley',\n",
       " 'Northwest Palmdale',\n",
       " 'Pacific Palisades',\n",
       " 'Palos Verdes Estates',\n",
       " 'Pico-Robertson',\n",
       " 'Playa Vista',\n",
       " 'Playa del Rey',\n",
       " 'Redondo Beach',\n",
       " 'Rolling Hills',\n",
       " 'Rolling Hills Estates',\n",
       " 'Santa Monica',\n",
       " 'Sawtelle',\n",
       " 'Sepulveda Basin',\n",
       " 'Shadow Hills',\n",
       " 'Sherman Oaks',\n",
       " 'Sierra Madre',\n",
       " 'Silver Lake',\n",
       " 'Studio City',\n",
       " 'Sunland',\n",
       " 'Tarzana',\n",
       " 'Toluca Lake',\n",
       " 'Topanga',\n",
       " 'Tujunga',\n",
       " 'Tujunga Canyons',\n",
       " 'Unincorporated Santa Monica Mountains',\n",
       " 'Universal City',\n",
       " 'Valley Village',\n",
       " 'Venice',\n",
       " 'Veterans Administration',\n",
       " 'West Hills',\n",
       " 'West Hollywood',\n",
       " 'West Los Angeles',\n",
       " 'Westlake Village',\n",
       " 'Westwood',\n",
       " 'Woodland Hills']"
      ]
     },
     "execution_count": 41,
     "metadata": {},
     "output_type": "execute_result"
    }
   ],
   "source": [
    "race_neighborhoods.loc[race_neighborhoods[\"majority_white\"] == True][\"neighborhood\"].tolist()"
   ]
  },
  {
   "cell_type": "code",
   "execution_count": null,
   "id": "679e17d4-7803-4286-a6c8-8c5e4f452c58",
   "metadata": {},
   "outputs": [],
   "source": []
  }
 ],
 "metadata": {
  "kernelspec": {
   "display_name": "Python 3 (ipykernel)",
   "language": "python",
   "name": "python3"
  },
  "language_info": {
   "codemirror_mode": {
    "name": "ipython",
    "version": 3
   },
   "file_extension": ".py",
   "mimetype": "text/x-python",
   "name": "python",
   "nbconvert_exporter": "python",
   "pygments_lexer": "ipython3",
   "version": "3.11.8"
  }
 },
 "nbformat": 4,
 "nbformat_minor": 5
}
